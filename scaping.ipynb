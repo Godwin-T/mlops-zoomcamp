{
 "cells": [
  {
   "cell_type": "code",
   "execution_count": 4,
   "metadata": {},
   "outputs": [],
   "source": [
    "%%capture\n",
    "!pip install requests\n",
    "!pip install beautifulsoup4"
   ]
  },
  {
   "cell_type": "code",
   "execution_count": 48,
   "metadata": {},
   "outputs": [
    {
     "name": "stdout",
     "output_type": "stream",
     "text": [
      "The large and rough-coated Otterhound was originally bred for hunting otter in England. Built for work, the dog breed has a keen nose and renowned stamina.\n",
      "This is an uncommon breed, with fewer than ten litters born each year in the United States and Canada. Still some may still end up in the care of shelters or rescues. Consider adoption if this is the breed for you.\n"
     ]
    }
   ],
   "source": [
    "import requests\n",
    "from bs4 import BeautifulSoup\n",
    "\n",
    "\n",
    "# Making a GET request\n",
    "r = requests.get('https://dogtime.com/dog-breeds/otterhound#/slide/1')\n",
    "\n",
    "# Parsing the HTML\n",
    "soup = BeautifulSoup(r.content, 'html.parser')\n",
    "\n",
    "intro = soup.find('div', class_='breeds-single-intro')\n",
    "intro_content = intro.find_all('p')\n",
    "\n",
    "body = soup.find('div', class_='breeds-single-details')\n",
    "body_content = body.find_all('p')\n",
    "\n",
    "for line in intro_content[:2]:\n",
    "    print(line.text)"
   ]
  },
  {
   "cell_type": "code",
   "execution_count": 56,
   "metadata": {},
   "outputs": [
    {
     "name": "stdout",
     "output_type": "stream",
     "text": [
      "Contrary to popular belief, small size doesn't necessarily an apartment dog make. Plenty of small dogs are too high-energy and yappy for life in a high-rise. Being quiet, low energy, fairly calm indoors, and polite with the other residents are all good qualities in an apartment dog. And you can find an awesome crate for your dog here to give them a little more personal space in your apartment.\n",
      "Click here for more information on this characteristic\n",
      "Some dogs are simply easier than others; they take to training better and are fairly easygoing. They're also resilient enough to bounce back from your mistakes or inconsistencies.\n",
      "Dogs who are highly sensitive, independent thinking, or assertive may be harder for a first-time dog parent to manage. You'll get your best match if you take your dog-owning experience into account as you choose your new pooch.\n",
      "If you're new to dog parenting, take a look at 101 Dog Tricks and read up on how to train your dog!\n",
      "Some dogs will let a stern reprimand roll off their backs, while others take even a dirty look to heart. Low-sensitivity dogs, also called \"easygoing,\" \"tolerant,\" \"resilient,\" and even \"thick-skinned,\" can better handle a noisy, chaotic household, a louder or more assertive owner, and an inconsistent or variable routine. Do you have young kids, throw lots of dinner parties, play in a garage band, or lead a hectic life? Go with a low-sensitivity dog.\n",
      "Some breeds bond very closely with their family and are more prone to worry or even panic when left alone by their owner. An anxious dog can be very destructive--barking, whining, chewing, and otherwise causing mayhem. These breeds do best when a family member is home during the day or if you can take the dog to work.\n",
      "Breeds with very short coats and little or no undercoat or body fat, such as Greyhounds, are vulnerable to the cold. Dogs with a low cold tolerance need to live inside in cool climates and should have a jacket or sweater for chilly walks. You can find a great jacket for your dog here!\n",
      "Click here for more information on this characteristic\n",
      "Dogs with thick, double coats are more vulnerable to overheating. So are breeds with short noses, like Bulldogs or Pugs, since they can't pant as well to cool themselves off. If you want a heat-sensitive breed, your dog will need to stay indoors with you on warm or humid days, and you'll need to be extra cautious about exercising your dog in the heat.\n",
      "Some breeds are independent and aloof, even if they've been raised by the same person since puppyhood; others bond closely to one person and are indifferent to everyone else; and some shower the whole family with affection. Breed isn't the only factor that goes into affection levels; dogs who were raised inside a home with people around feel more comfortable with humans and bond more easily.\n",
      "See Dogs Less Affectionate with Family\n",
      "Being gentle with children, sturdy enough to handle the heavy-handed pets and hugs they can dish out, and having a blasé attitude toward running, screaming children are all traits that make a kid-friendly dog. You may be surprised by who's on that list: Fierce-looking Boxers are considered good with children, as are American Staffordshire Terriers (which are considered Pit Bulls). Small, delicate, and potentially snappy dogs such as Chihuahuas aren't always so family-friendly.\n",
      "**All dogs are individuals. Our ratings are generalizations, and they're not a guarantee of how any breed or individual dog will behave. Dogs from any breed can be good with children based on their past experiences, training on how to get along with kids, and personality. No matter what the breed or breed type, all dogs have strong jaws, sharp pointy teeth, and may bite in stressful circumstances. Young children and dogs of any breed should always be supervised by an adult and never left alone together, period.\n",
      "Click here for more information on this characteristic\n",
      "Friendliness toward dogs and friendliness toward humans are two completely different things. Some dogs may attack or try to dominate other dogs, even if they're love-bugs with people; others would rather play than fight; and some will turn tail and run. Breed isn't the only factor. Dogs who lived with their littermates and mother until at least six to eight weeks of age and who spent lots of time playing with other dogs during puppyhood, are more likely to have good canine social skills.\n",
      "Click here for more information on this characteristic\n",
      "Stranger-friendly dogs will greet guests with wagging tails and nuzzles; others are shy, indifferent, or even aggressive. However, no matter what the breed, a dog who was socialized and exposed to lots of different types, ages, sizes, and shapes of people as a puppy will respond better to strangers as an adult. Remember that even friendly dogs should stay on a good, strong leash like this one in public!\n",
      "If you're going to share your home with a dog, you'll need to deal with some level of dog hair on your clothes and in your house. However, shedding does vary greatly among the breeds. Some dogs shed year-round, some \"blow\" seasonally, some do both, and some shed hardly at all. If you're a neatnik, you'll need to either pick a low-shedding breed or relax your standards. To help keep your home a little cleaner, you can find a great de-shedding tool here!\n",
      "Drool-prone dogs may drape ropes of slobber on your arm and leave big, wet spots on your clothes when they come over to say hello. If you've got a laid-back attitude toward slobber, fine; but if you're a neatnik, you may want to choose a dog who rates low in the drool department.\n",
      "Some breeds are brush-and-go dogs; others require regular bathing, clipping, and other grooming just to stay clean and healthy. Consider whether you have the time and patience for a dog who needs a lot of grooming, or the money to pay someone else to do it.\n",
      "Due to poor breeding practices, some breeds are prone to certain genetic health problems, such as hip dysplasia. This doesn't mean that every dog of that breed will develop those diseases; it just means that they're at an increased risk.\n",
      "If you're adopting a puppy, it's a good idea to find out which genetic illnesses are common to the breed you're interested in. You may also want to ask if your shelter or rescue has information about the physical health of your potential pup's parents and other relatives.\n",
      "Some breeds have hearty appetites and tend to put on weight easily. As in humans, being overweight can cause health problems in dogs. If you pick a breed that's prone to packing on pounds, you'll need to limit treats, make sure they get enough exercise, and measure out their daily food servings into regular meals rather than leaving food out all the time.\n",
      "Ask your vet about your dog's diet and what they recommend for feeding your pooch to keep them at a healthy weight. Weight gain can lead to other health issues or worsen problems like arthritis.\n",
      "Dogs come in all sizes, from the world's smallest pooch, the Chihuahua, to the towering Great Dane, how much space a dog takes up is a key factor in deciding if they're compatible with you and your living space. Large dog breeds might seem overpowering and intimidating, but some of them are incredibly sweet! Take a look and find the right sized dog for you!\n",
      "Easy-to-train dogs are more adept at forming an association between a prompt (such as the word \"sit\"), an action (sitting), and a consequence (getting a treat) very quickly. Other dogs need more time, patience, and repetition during training.\n",
      "Many breeds are intelligent but approach training with a \"What's in it for me?\" attitude, in which case you'll need to use rewards and games to teach them to want to comply with your requests.\n",
      "Dogs who were bred for jobs that require decision making, intelligence, and concentration, such as herding livestock, need to exercise their brains, just as dogs who were bred to run all day need to exercise their bodies. If they don't get the mental stimulation they need, they'll make their own work--usually with projects you won't like, such as digging and chewing. Obedience training and interactive dog toys are good ways to give a dog a brain workout, as are dog sports and careers, such as agility and search and rescue.\n",
      "Common in most breeds during puppyhood and in Retriever breeds at all ages, mouthiness means a tendency to nip, chew, and play-bite (a soft, fairly painless bite that doesn't puncture the skin). Mouthy dogs are more likely to use their mouths to hold or \"herd\" their human family members, and they need training to learn that it's fine to gnaw on chew toys, but not on people. Mouthy breeds tend to really enjoy a game of fetch, as well as a good chew on a toy that's been stuffed with kibble and treats.\n",
      "\n",
      "Dogs who were bred to hunt, such as Terriers, have an inborn desire to chase--and sometimes kill--other animals. Anything whizzing by, such as cats, squirrels, and perhaps even cars, can trigger that instinct. Dogs who like to chase need to be leashed or kept in a fenced area when outdoors, and you'll need a high, secure fence in your yard. These breeds generally aren't a good fit for homes with smaller pets that can look like prey, such as cats, hamsters, or small dogs. Breeds that were originally used for bird hunting, on the other hand, generally won't chase, but you'll probably have a hard time getting their attention when there are birds flying by.\n",
      "Some breeds sound off more often than others. When choosing a breed, think about how often the dog vocalizes with barks or howls. If you're considering a hound, would you find their trademark howls musical or maddening? If you're considering a watchdog, will a city full of suspicious \"strangers\" put your pup on permanent alert? Will the local wildlife literally drive your dog wild? Do you live in housing with noise restrictions? Do you have neighbors nearby? Then you may wish to choose a quieter dog.\n",
      "Some breeds are more free-spirited than others. Nordic dogs such as Siberian Huskies were bred to range long distances, and given the chance, they'll take off after anything that catches their interest. And many hounds simply must follow their noses--or that bunny that just ran across the path--even if it means leaving you behind.\n",
      "High-energy dogs are always ready and waiting for action. Originally bred to perform a canine job of some sort, such as retrieving game for hunters or herding livestock, they have the stamina to put in a full workday. They need a significant amount of exercise and mental stimulation, and they're more likely to spend time jumping, playing, and investigating any new sights and smells.\n",
      "Low-energy dogs are the canine equivalent of a couch potato, content to doze the day away. When picking a breed, consider your own activity level and lifestyle, and think about whether you'll find a frisky, energetic dog invigorating or annoying.\n",
      "A vigorous dog may or may not have high energy, but everything they do, they do with vigor: they strain on the leash (until you train them not to), try to plow through obstacles, and even eats and drinks with great big gulps. These dynamos need lots of training to learn good manners, and may not be the best fit for a home with young kids or someone who's elderly or frail. A low-vigor dog, on the other hand, has a more subdued approach to life.\n",
      "Some breeds do fine with a slow evening stroll around the block. Others need daily, vigorous exercise, especially those that were originally bred for physically demanding jobs, like herding or hunting.\n",
      "Without enough exercise, these breeds may put on weight and vent their pent-up energy in ways you don't like, such as barking, chewing, and digging. Breeds that need a lot of exercise are good for outdoorsy, active people, or those interested in training their dog to compete in a high-energy dog sport, such as agility.\n",
      "Some dogs are perpetual puppies -- always begging for a game -- while others are more serious and sedate. Although a playful pup sounds endearing, consider how many games of fetch or tag you want to play each day, and whether you have kids or other dogs who can stand in as playmates for the dog.\n",
      "Like the mythical Greek hero Hercules, the Rottweiler is strong and true with a loving heart. Affectionately called Rotties or Rotts, the breed originated in Germany, where it was used to drive cattle and pull carts for farmers and butchers. That heritage is reflected in the Rottie's broad chest and heavily muscled body. When he moves, he displays strength and stamina, but when you look into his eyes you see warm, dark-brown pools reflecting a mellow, intelligent, alert, and fearless expression.\n",
      "A well-bred Rottweiler is calm and confident. He's typically aloof toward strangers, but never timid or fearful. Rottweilers exhibit a \"wait-and-see\" attitude when confronted with new people and situations. When these characteristics come together as they should, the Rottweiler is a natural guard dog with a mellow disposition who is successful not only in police, military, and customs work, but also as a family friend and protector.\n",
      "Rotties have a natural instinct to protect their families and can be ferocious in their defense. It's essential to channel their power and protectiveness by providing early socialization, firm, fair, consistent training and leadership, and a regular job to perform. When this doesn't happen, Rottweilers can become dangerous bullies rather than the companionable guardians they're meant to be.\n",
      "Rottweilers walk a fine line between protectiveness and aggressiveness. If they aren't carefully bred for a calm, intelligent temperament and properly socialized and trained, they can become overly protective. That might sound like what you want, but a Rottie who lacks the ability to discriminate is dangerous to everyone he encounters, not just the bad guys.\n",
      "You must be able to provide your Rottweiler with leadership he can trust and respect without resorting to anger or physical force. Otherwise, he'll take the role of top dog for himself. With a dog as powerful and intelligent as the Rottweiler, this is a recipe for disaster.\n",
      "Despite what you might have heard, Rottweilers are not temperamentally unsound or inherently vicious. Well-bred, well-socialized Rotties are playful, gentle, and loving to their families. They are easy to train if treated with respect and make great companions.\n",
      "As wonderful as Rottweilers can be, they aren't the dog for everyone. You must not only be dedicated to training and socializing your Rottie, you must also deal with people who don't understand the breed and pre-judge it. Because of bad or tragic experiences with Rottweilers or other large breeds, some cities have banned the breed. It's unfair to judge an entire breed by the actions of a few, but it's a reality you will have to deal with if you own a Rottweiler.\n",
      "You can do your part to redeem the reputation of the breed by training your Rottweiler to obey and respect people. Most important, don't put your Rottie in the backyard and forget about him. This is a dog who is loyal to his people and wants to be with them. If you give him the guidance and structure he needs, you'll be rewarded with one of the finest companions in the world.\n",
      "Rottweilers descend from the Molossus, a mastiff-type dog. Their ancestors marched to Germany with the Romans, driving the cattle that sustained them as they conquered the known world. As the army traveled, the big dogs mated with dogs that were native to the areas they passed through and laid the foundation for new breeds.\n",
      "One of the areas through which they passed was southern Germany, where the Romans set up colonies to take advantage of climate and soil, which were suitable for agriculture. They built villas roofed with red tile. More than 600 years later, as they were building a new church, inhabitants of the town excavated the site of the ancient Roman baths and uncovered one of the red-tiled villas. The discovery inspired a new name for the town: das Rote Wil (the red tile).\n",
      "Over the centuries, Rottweilers flourished as a market area for cattle, the German equivalent of a Texas cowtown, and the descendants of the Roman Molossus dogs drove the cattle to town for butchering. To keep their money safe from thieves after selling their livestock, the cattlemen put their filled purses around their Rottweiler's neck when they returned home. Butchers in the area also used the dogs to pull carts loaded with meat.\n",
      "Eventually, rail transport replaced cattle drives. The Rottweiler nearly became extinct. At a dog show in Heilbronn, Germany, in 1882, only one nondescript Rottweiler was exhibited. That situation began to change in 1901, when the Rottweiler and Leonberger Club was founded and the first Rottweiler breed standard was written. The description of the Rottweiler's appearance and character has changed little since then.\n",
      "Rottweilers began to be used in police work, for which they were well suited. Several Rottweiler breed clubs were formed over the years, but the one with staying power was the Allgemeiner Deutscher Rottweiler Klub (ADRK), founded in 1921. The ADRK survived World War II and has continued to promote good breeding programs in Germany and throughout the world. It's dedicated to preserving the working ability of the Rottweiler.It's thought that the first Rottweiler came to the U.S. with a German emigrant in the late 1920s. The first litter was whelped in 1930, and the first dog registered by the American Kennel Club was Stina v Felsenmeer in 1931.\n",
      "After World War II, the breed started becoming more popular. At that time, it was primarily known as an excellent obedience dog. The height of the Rottweiler's popularity was in the mid-1990s when more than 100,000 were registered with the American Kennel Club.\n",
      "Being popular isn't necessarily a good thing when you're a dog. It's not unusual for irresponsible breeders and puppy mills to try to cash in on the popularity of a breed and start producing puppies without regard for health and temperament problems. This is what happened to the Rottweiler breed until bad publicity and the demand for them decreased.\n",
      "Dedicated, reputable breeders are taking this chance to turn the breed around and ensure that Rottweilers are the type of dogs they were meant to be. Today, Rottweilers rank 17th among the 155 breeds and varieties registered by the AKC.\n",
      "Males typically are 24 to 27 inches tall at the shoulder and weigh 95 to 130 pounds. Females typically are 22 to 25 inches tall at the shoulder and weigh 85 to 115 pounds.\n",
      "The ideal Rottweiler is calm, confident, and courageous, never shy. He has a self-assured aloofness and doesn't make friends with people immediately or indiscriminately. Instead, he takes a wait-and-see attitude with new people or situations. With his family, he's affectionate, often following them around the house. This is not a highly excitable dog. He has an inherent desire to protect his family and property, but should never be aggressive toward people without cause. The Rottweiler is smart and adaptable with a strong work ethic.\n",
      "You'll see some differences between the sexes. Males are quiet but watchful, constantly assessing their surroundings for threats. Females are somewhat easier to control and may be more affectionate. Both are highly trainable but can be stubborn.\n",
      "Rottweilers require firm, consistent but not harsh discipline. A sharp word is often a sufficient reprimand, but only if you've clearly established your leadership. If not, he may try to bully or bluff you. This is not a dog for people who lack assertiveness or don't have time to devote to training and supervision. Earning a Rottweiler's respect involves setting boundaries and teaching consequences for inappropriate behavior, both of which take time and patience.\n",
      "Temperament is affected by a number of factors, including heredity, training, and socialization. Puppies with nice temperaments are curious and playful, willing to approach people and be held by them. Choose the middle-of-the-road puppy, not the one who's beating up his littermates or the one who's hiding in the corner. Always meet at least one of the parents — usually the mother is the one who's available — to ensure that they have nice temperaments that you're comfortable with. Meeting siblings or other relatives of the parents is also helpful for evaluating what a puppy will be like when he grows up.\n",
      "Like every dog, Rotties need early socialization — exposure to many different people, sights, sounds, and experiences — when they're young. Socialization helps ensure that your Rottweiler puppy grows up to be a well-rounded dog. Enrolling him in a puppy kindergarten class is a great start. Inviting visitors over regularly, and taking him to busy parks, stores that allow dogs, and on leisurely strolls to meet neighbors will also help him polish his social skills.\n",
      "Rottweilers are generally healthy, but like all breeds, they're prone to certain health conditions. Not all Rotties will get any or all of these diseases, but it's important to be aware of them if you're considering this breed.\n",
      "If you're buying a puppy, find a good breeder who will show you health clearances for both your puppy's parents. Health clearances prove that a dog has been tested for and cleared of a particular condition. In Rotties, you should expect to see health clearances from the Orthopedic Foundation for Animals (OFA) for hip dysplasia (with a score of fair or better), elbow dysplasia, hypothyroidism, and von Willebrand's disease; from Auburn University for thrombopathia; and from the Canine Eye Registry Foundation (CERF) certifying that eyes are normal. You can confirm health clearances by checking the OFA web site (offa.org).\n",
      "Regardless of how healthy your dog is when you first bring them home, you should prepare for any issues that may come up throughout their life. A pet insurance plan can help you stay ready for any of your dog's veterinary needs.\n",
      "It's important for Rottweilers to live in the home with their people. If they're left alone in a backyard all the time, they can become bored, destructive, and aggressive. Although they're large, Rottweilers are inactive indoors.\n",
      "A Rottweiler is a homebody, but he requires a fenced yard not only to protect him from traffic but also because he can be aggressive toward other dogs and strangers who come onto his property. An underground electronic fence can't keep your Rottie in your yard if he really wants to get out. More important, it doesn't prevent people or other animals from coming onto your property. Put up a sign advising strangers and non-family members not to come onto your property without your escort.\n",
      "The Rottweiler's energy level ranges from couch potato to whirlwind. Be sure to tell the breeder what kind of energy level suits you so she can help you choose the best puppy for your lifestyle. Moderately active Rottweilers will appreciate a couple of 10- to 20-minute walks each day. They also enjoy playing with balls and going hiking. More energetic Rotties may need longer exercise times and more structured activities. Their athleticism, intelligence, and trainability make them well suited to agility and obedience competition, as well as tracking, therapy work, and their traditional job, pulling a cart or wagon. Perfect for parades!\n",
      "When training your Rottweiler, keep in mind that he thrives on mental stimulation. He likes to learn new things and is eager to please you. He might be willful at times, with a \"Show me why I should do this\" attitude. Be fair, consistent, and firm, and your Rottweiler will reward you with his quick ability to learn.\n",
      "Your Rottweiler shouldn't be difficult to housetrain given a consistent schedule, no opportunities to have accidents in the house, and positive reinforcement when he potties outdoors.\n",
      "Recommended daily amount: 4 to 10 cups of high-quality dry food a day, divided into two meals.\n",
      "Note: How much your adult dog eats depends on his size, age, build, metabolism, and activity level. Dogs are individuals, just like people, and they don't all need the same amount of food. It almost goes without saying that a highly active dog will need more than a couch potato dog. The quality of dog food you buy also makes a difference — the better the dog food, the further it will go toward nourishing your dog and the less of it you'll need to shake into your dog's bowl.\n",
      "Keep your Rottweiler in good shape by measuring his food and feeding him twice a day rather than leaving food out all the time. If you're unsure whether he's overweight, give him the eye test and the hands-on test. First, look down at him. You should be able to see a waist. Then place your hands on his back, thumbs along the spine, with the fingers spread downward. You should be able to feel but not see his ribs without having to press hard. If you can't, he needs less food and more exercise.\n",
      "For more on feeding your Rottie, see our guidelines for buying the right food, feeding your puppy, and feeding your adult dog.\n",
      "Rottweilers have a short double coat that's straight and coarse. The outer coat is medium in length, shorter on the head, ears, and legs; the undercoat is found mainly on the neck and thighs. The amount of undercoat your Rottie has depends on the climate in which he lives.\n",
      "The Rottweiler is always black with markings that are rust to mahogany in color. The markings appear over the eyes, on the cheeks, on each side of the muzzle, on the chest and legs, and beneath the tail. There are also tan lines that resemble pencil marks on the toes.\n",
      "Brush your Rottie weekly with a firm bristle brush to remove dead hair and distribute skin oils. He'll shed twice a year, and you'll probably want to brush more frequently during that time to keep the loose hair under control. Bathe him as needed. If you bathe him outdoors, it should be warm enough that you're comfortable without wearing long sleeves or a coat. If you aren't, it's too cold to be giving your Rottie a bath out there.\n",
      "Brush your Rottie's teeth at least two or three times a week to remove tartar buildup and the bacteria that lurk inside it. Daily brushing is even better if you want to prevent gum disease and bad breath.\n",
      "Begin accustoming your Rottweiler to being brushed and examined when he's a puppy. Handle his paws frequently — dogs are touchy about their feet — and look inside his mouth and ears. Make grooming a positive experience filled with praise and rewards, and you'll lay the groundwork for easy veterinary exams and other handling when he's an adult.\n",
      "Rottweilers typically like children, especially if they're raised with them. When around children, especially young ones, they should be supervised because they are so big and strong. Because of their cattle-driving heritage, they have a tendency to lean and push and can accidentally topple a toddler with a nudge.\n",
      "They're probably best suited to homes with older children who understand how to interact with dogs. It's also important to supervise your Rottweiler any time your children have friends over. Rotties can be perturbed by loud or rough play between kids and may take steps to put a stop to it, not understanding that \"his\" children aren't in danger. They may also chase young children who are running.\n",
      "Always teach children how to approach and touch dogs, and always supervise any interactions between dogs and young children to prevent any biting or ear or tail pulling on the part of either party. Teach your child never to approach any dog while he's sleeping or eating or to try to take the dog's food away. No dog should ever be left unsupervised with a child.\n",
      "When Rottweilers are raised with other dogs and cats, they generally get along well with them. They may have issues with strange dogs or adult dogs that are introduced into the home, being intolerant of same-sex dogs. With your training and guidance, however, they should accept new animals peaceably. Keep your Rottie on leash in public to prevent aggression or belligerence toward other dogs. The Rottie is not the best candidate for visiting off-leash dog parks.\n",
      "Rottweilers are often purchased without any clear understanding of what goes into owning one. There are many Rotties in need of adoption and or fostering. There are a number of rescues that we have not listed. If you don't see a rescue listed for your area, contact the national breed club or a local breed club and they can point you toward a Rottie rescue.\n",
      "All dogs will need veterinary care at some point in their lives. When you adopt, make sure you're prepared to address any health issues that may come up after you leave the shelter. A pet insurance plan can keep your dog covered.\n"
     ]
    }
   ],
   "source": [
    "import requests\n",
    "from bs4 import BeautifulSoup\n",
    " \n",
    " \n",
    "# Making a GET request\n",
    "r = requests.get('https://dogtime.com/dog-breeds/rottweiler#/slide/1')\n",
    " \n",
    "# Parsing the HTML\n",
    "soup = BeautifulSoup(r.content, 'html.parser')\n",
    " \n",
    "intro = soup.find('div', class_='breeds-single-intro')\n",
    "intro_content = intro.find_all('p')\n",
    "\n",
    "body = soup.find('div', class_='breeds-single-details')\n",
    "body_content = body.find_all('p')\n",
    "\n",
    "for line in body_content:\n",
    "    print(line.text)"
   ]
  },
  {
   "cell_type": "code",
   "execution_count": 65,
   "metadata": {},
   "outputs": [],
   "source": [
    "import requests\n",
    "from bs4 import BeautifulSoup\n",
    " \n",
    " \n",
    "# Making a GET request\n",
    "r = requests.get('https://dogtime.com/dog-breeds/huskita#/slide/1')\n",
    " \n",
    "# Parsing the HTML\n",
    "soup = BeautifulSoup(r.content, 'html.parser')\n",
    " \n",
    "intro = soup.find('div', class_='breeds-single-intro')\n",
    "intro_content = intro.find_all('p')\n",
    "\n",
    "body = soup.find('div', class_='breeds-single-details')\n",
    "body_content = body.find_all('p')\n",
    "\n",
    "dog_info = soup.find('ul', class_='breed-data js-accordion item-expandable-container profile-descriptions-list')\n",
    "dog_content = body.find_all('p')\n",
    "text = ''\n",
    "for line in intro_content[:2]:\n",
    "    text = text + (line.text)"
   ]
  },
  {
   "cell_type": "code",
   "execution_count": 78,
   "metadata": {},
   "outputs": [
    {
     "data": {
      "text/plain": [
       "[<p>The Huskita is a mixed breed dog — a cross between the <a href=\"https://dogtime.com/dog-breeds/akita\" rel=\"noopener\" target=\"_blank\">Akita</a> and <a href=\"https://dogtime.com/dog-breeds/siberian-husky\" rel=\"noopener\" target=\"_blank\">Siberian Husky</a> dog breeds. Large, energetic, and loyal, these pups inherited some of the best qualities from both of their parents.</p>,\n",
       " <p>The Huskita is also commonly called the <a href=\"https://wagwalking.com/breed/huskita\" rel=\"noopener\" target=\"_blank\">Siberian Akita</a>. Despite their unfortunate status as a designer breed, you may find these mixed breed dogs in shelters and breed specific rescues, so remember to adopt! Don’t shop!</p>,\n",
       " <p style=\"font-size: 12px\"> Advertisement </p>,\n",
       " <p>These awesome dogs are protective and loyal. They’re also working dogs. Due to their alert nature, they have a history of taking on guard duties and police work, and they make great therapy dogs and companions animals for people.</p>,\n",
       " <p>They could live in an apartment as long as they get lots of exercise in the outdoors. Huskitas would do best in homes with yards and need a job or task to do. When under-stimulated, these pups can become destructive and unmanageable. Keep them working to keep them happy!</p>,\n",
       " <p>See below for all Huskita facts and mixed dog breed characteristics!</p>,\n",
       " <p>(Picture Credit: Helen H. Richardson/The Denver Post via Getty Images)</p>,\n",
       " <p>(Picture Credit: sercansamanci/Getty Images)</p>,\n",
       " <p>(Picture Credit: Okssi68/Getty Images)</p>,\n",
       " <p>(Picture Credit: sercansamanci/Getty Images)</p>,\n",
       " <p>(Picture Credit: Okssi68/Getty Images)</p>]"
      ]
     },
     "execution_count": 78,
     "metadata": {},
     "output_type": "execute_result"
    }
   ],
   "source": [
    "intro_content"
   ]
  },
  {
   "cell_type": "code",
   "execution_count": null,
   "metadata": {},
   "outputs": [],
   "source": []
  },
  {
   "cell_type": "code",
   "execution_count": 73,
   "metadata": {},
   "outputs": [],
   "source": [
    "text = ''\n",
    "for line in body_content:\n",
    "    text = text + (line.text)"
   ]
  },
  {
   "cell_type": "code",
   "execution_count": 74,
   "metadata": {},
   "outputs": [
    {
     "data": {
      "text/plain": [
       "'Contrary to popular belief, small size doesn\\'t necessarily an apartment dog make. Plenty of small dogs are too high-energy and yappy for life in a high-rise. Being quiet, low energy, fairly calm indoors, and polite with the other residents are all good qualities in an apartment dog. And you can find an awesome crate for your dog here to give them a little more personal space in your apartment.Click here for more information on this characteristicSome dogs are simply easier than others; they take to training better and are fairly easygoing. They\\'re also resilient enough to bounce back from your mistakes or inconsistencies.Dogs who are highly sensitive, independent thinking, or assertive may be harder for a first-time dog parent to manage. You\\'ll get your best match if you take your dog-owning experience into account as you choose your new pooch.If you\\'re new to dog parenting, take a look at\\xa0101 Dog Tricks and read up on how to train your dog!Some dogs will let a stern reprimand roll off their backs, while others take even a dirty look to heart. Low-sensitivity dogs, also called \"easygoing,\" \"tolerant,\" \"resilient,\" and even \"thick-skinned,\" can better handle a noisy, chaotic household, a louder or more assertive owner, and an inconsistent or variable routine. Do you have young kids, throw lots of dinner parties, play in a garage band, or lead a hectic life? Go with a low-sensitivity dog.Some breeds bond very closely with their family and are more prone to worry or even panic when left alone by their owner. An anxious dog can be very destructive--barking, whining, chewing, and otherwise causing mayhem. These breeds do best when a family member is home during the day or if you can take the dog to work.Breeds with very short coats and little or no undercoat or body fat, such as Greyhounds, are vulnerable to the cold. Dogs with a low cold tolerance need to live inside in cool climates and should have a jacket or sweater for chilly walks. You can find a great jacket for your dog here!Click here for more information on this characteristicDogs with thick, double coats are more vulnerable to overheating. So are breeds with short noses, like Bulldogs or Pugs, since they can\\'t pant as well to cool themselves off. If you want a heat-sensitive breed, your dog will need to stay indoors with you on warm or humid days, and you\\'ll need to be extra cautious about exercising your dog in the heat.Some breeds are independent and aloof, even if they\\'ve been raised by the same person since puppyhood; others bond closely to one person and are indifferent to everyone else; and some shower the whole family with affection. Breed isn\\'t the only factor that goes into affection levels; dogs who were raised inside a home with people around feel more comfortable with humans and bond more easily.See Dogs Less Affectionate with FamilyBeing gentle with children, sturdy enough to handle the heavy-handed pets and hugs they can dish out, and having a blasé attitude toward running, screaming children are all traits that make a kid-friendly dog. You may be surprised by who\\'s on that list: Fierce-looking Boxers are considered good with children, as are American Staffordshire Terriers (which are considered Pit Bulls). Small, delicate, and potentially snappy dogs such as Chihuahuas aren\\'t always so family-friendly.**All dogs are individuals. Our ratings are generalizations, and they\\'re not a guarantee of how any breed or individual dog will behave. Dogs from any breed can be good with children based on their past experiences, training on how to get along with kids, and personality. No matter what the breed or breed type, all dogs have strong jaws, sharp pointy teeth, and may bite in stressful circumstances. Young children and dogs of any breed should always be supervised by an adult and never left alone together, period.Click here for more information on this characteristicFriendliness toward dogs and friendliness toward humans are two completely different things. Some dogs may attack or try to dominate other dogs, even if they\\'re love-bugs with people; others would rather play than fight; and some will turn tail and run. Breed isn\\'t the only factor. Dogs who lived with their littermates and mother until at least six to eight weeks of age and who spent lots of time playing with other dogs during puppyhood, are more likely to have good canine social skills.Click here for more information on this characteristicStranger-friendly dogs will greet guests with wagging tails and nuzzles; others are shy, indifferent, or even aggressive. However, no matter what the breed, a dog who was socialized and\\xa0exposed to lots of different types, ages, sizes, and shapes of people as a puppy will respond better to strangers as an adult. Remember that even friendly dogs should stay on a good, strong leash like this one\\xa0in public!If you\\'re going to share your home with a dog, you\\'ll need to deal with some level of dog hair on your clothes and in your house. However, shedding does vary greatly among the breeds. Some dogs shed year-round, some \"blow\" seasonally, some do both, and some shed hardly at all. If you\\'re a neatnik, you\\'ll need to either pick a low-shedding breed or relax your standards. To help keep your home a little cleaner, you can find a great de-shedding tool here!Drool-prone dogs may drape ropes of slobber on your arm and leave big, wet spots on your clothes when they come over to say hello. If you\\'ve got a laid-back attitude toward slobber, fine; but if you\\'re a neatnik, you may want to choose a dog who rates low in the drool department.Some breeds are brush-and-go dogs; others require regular bathing, clipping, and other grooming just to stay clean and healthy. Consider whether you have the time and patience for a dog who needs a lot of grooming, or the money to pay someone else to do it.Due to poor breeding practices, some breeds are prone to certain genetic health problems, such as hip dysplasia. This doesn\\'t mean that every dog of that breed will develop those diseases; it just means that they\\'re at an increased risk.If you\\'re adopting a puppy, it\\'s a good idea to find out which genetic illnesses are common to the breed you\\'re interested in. You may also want to ask if your shelter or rescue has information\\xa0about the physical health of your potential pup\\'s parents and other relatives.Some breeds have hearty appetites and tend to put on weight easily. As in humans, being overweight can cause health problems in dogs. If you pick a breed that\\'s prone to packing on pounds, you\\'ll need to limit treats, make sure they get enough exercise, and measure out their daily food servings into regular meals rather than leaving food out all the time.Ask your vet about your dog\\'s diet and what they recommend for feeding your pooch to keep them at a healthy weight. Weight gain can lead to other health issues or worsen problems like arthritis.Dogs come in all sizes, from the world\\'s smallest pooch, the Chihuahua, to the towering Great Dane, how much space a dog takes up is a key factor in deciding if they\\'re compatible with you and your living space.\\xa0Large dog breeds might seem overpowering and intimidating, but some of them are incredibly sweet! Take a look and find the right sized dog for you!Easy-to-train dogs are more adept at forming an association between a prompt (such as the word \"sit\"), an action (sitting), and a consequence (getting a treat) very quickly. Other dogs need more time, patience, and repetition during training.Many breeds are intelligent but approach training with a \"What\\'s in it for me?\" attitude, in which case you\\'ll need to use rewards and games to teach them to want to comply with your requests.Dogs who were bred for jobs that require decision making, intelligence, and concentration, such as herding livestock, need to exercise their brains, just as dogs who were bred to run all day need to exercise their bodies. If they don\\'t get the mental stimulation they need, they\\'ll make their own work--usually with projects you won\\'t like, such as digging and chewing. Obedience training and interactive dog toys are good ways to give a dog a brain workout, as are dog sports and careers, such as agility and search and rescue.Common in most breeds during puppyhood and in Retriever breeds at all ages, mouthiness means a tendency to nip, chew, and play-bite (a soft, fairly painless bite that doesn\\'t puncture the skin). Mouthy dogs are more likely to use their mouths to hold or \"herd\" their human family members, and they need training to learn that it\\'s fine to gnaw on chew toys, but not on people. Mouthy breeds tend to really enjoy a game of fetch, as well as a good chew on a toy that\\'s been stuffed with kibble and treats.Dogs who were bred to hunt, such as Terriers, have an inborn desire to chase--and sometimes kill--other animals. Anything whizzing by, such as cats, squirrels, and perhaps even cars, can trigger that instinct. Dogs who like to chase need to be leashed or kept in a fenced area when outdoors, and you\\'ll need a high, secure fence in your yard. These breeds generally aren\\'t a good fit for homes with smaller pets that can look like prey, such as cats, hamsters, or small dogs. Breeds that were originally used for bird hunting, on the other hand, generally won\\'t chase, but you\\'ll probably have a hard time getting their attention when there are birds flying by.Some breeds sound off more often than others. When choosing a breed, think about how often the dog vocalizes with barks or howls. If you\\'re considering a hound, would you find their trademark howls musical or maddening? If you\\'re considering a watchdog, will a city full of suspicious \"strangers\" put your pup on permanent alert? Will the local wildlife literally drive your dog wild? Do you live in housing with noise restrictions? Do you have neighbors nearby? Then you may wish to choose a quieter dog.Some breeds are more free-spirited than others. Nordic dogs such as Siberian Huskies were bred to range long distances, and given the chance, they\\'ll take off after anything that catches their interest. And many hounds simply must follow their noses--or that bunny that just ran across the path--even if it means leaving you behind.High-energy dogs are always ready and waiting for action. Originally bred to perform a canine job of some sort, such as retrieving game for hunters or herding livestock, they have the stamina to put in a full workday. They need a significant amount of exercise and mental stimulation, and they\\'re more likely to spend time jumping, playing, and investigating any new sights and smells.Low-energy dogs are the canine equivalent of a couch potato, content to doze the day away. When picking a breed, consider your own activity level and lifestyle, and think about whether you\\'ll find a frisky, energetic dog invigorating or annoying.A vigorous dog may or may not have high energy, but everything they do, they do with vigor: they strain on the leash (until you train them not to), try to plow through obstacles, and even eats and drinks with great big gulps. These dynamos need lots of training to learn good manners, and may not be the best fit for a home with young kids or someone who\\'s elderly or frail. A low-vigor dog, on the other hand, has a more subdued approach to life.Some breeds do fine with a slow evening stroll around the block. Others need daily, vigorous exercise, especially those that were originally bred for physically demanding jobs, like herding or hunting.Without enough exercise, these breeds may put on weight and vent their pent-up energy in ways you don\\'t like, such as barking, chewing, and digging. Breeds that need a lot of exercise are good for outdoorsy, active people, or those interested in training their dog to compete in a high-energy dog sport, such as agility.Some dogs are perpetual puppies -- always begging for a game -- while others are more serious and sedate. Although a playful pup sounds endearing, consider how many games of fetch or tag you want to play each day, and whether you have kids or other dogs who can stand in as playmates for the dog.The Huskita mixed dog breed may have existed naturally over the years, but designer breeders started intentionally mixing Akitas with the Siberian Husky in the late 1990s, likely in North America.Breeders wanted to mix the two parent breeds to create a strong, healthy and active companion dog. They continued to create Huskitas as demand for the mixed breed pups climbed.Even though the Huskita mixed breed got their start as a designer breed, some have ended up in shelters or in the care of rescue groups. Consider adoption if you decide this is the dog for you.Check your local shelters, look up Huskita rescues, or check with breed specific Akita and Siberian Husky rescues, as they sometimes help to re-home mixed breed dogs.As the Huskita is a relatively new mixed breed, there are few standards when it comes to size. That said, as a mix between Akita and Siberian Husky parents, you can expect Huskitas to be large in size.Most weigh in at 50 to 75 pounds and range in height from\\xa022 to 25 inches at the shoulder. However, many can be smaller or larger.Many Huskita lovers describe their dogs\\' as protective and alert. They are big and full of energy.They hail from a line of working parents. Siberian Huskies were originally used to pull snow sleds in Alaska while Akitas were used to guard royalty in Japan. This is why your Huskita will need a job. Whether small or large, they need to be needed.One thing Huskitas are\\xa0not\\xa0good at is being alone for long periods of time. Without the companionship they need—as well as exercise and the chance to put their intelligence to work—they\\xa0become bored\\xa0and frustrated. A Huskita who is\\xa0under-exercised\\xa0and ignored by their family is likely to express pent-up energy in ways you don\\'t like, such as howling and chewing.Like every dog, the Huskita needs\\xa0early socialization—exposure to many different people, sights, sounds, and experiences—when they\\'re young. Socialization helps ensure that your Huskita puppy grows up to be a well-rounded dog.The Huskita breed is predisposed to some of the same conditions that the Akita and Siberian Husky also face. While most are generally healthy, some may be prone to a few health issues, which is why it is important to maintain good care and regular veterinary checkups.Some of the more common problems Huskitas suffer from include:As with all dogs, you should keep up with your Huskita\\'s regular veterinary checkups to detect any health concerns early. Your vet can help you develop a care routine that will keep your dog healthy.Huskitas are prone to weight gain, and they have high energy levels. Hiking for 90 minutes per day is a good starting point. They thrive in the outdoors but need to live indoors.Check their ears for debris and pests daily and clean them as recommended by your vet. Trim your dog\\'s nails before they get too long--usually once or twice per month. They should not be clicking against the floor. Your groomer can help with this.One main concern when it comes to your Huskitas care will be maintaining their oral health. You should brush their teeth daily, as many dogs are prone to dental issues. Your veterinarian can instruct you on how to brush your dog\\'s teeth properly.A Huskita diet should be formulated for a large breed with high energy and exercise needs. You should consult your veterinarian or professional nutritionist for advice on what to feed your Huskita and the correct portion sizes.As with all dogs, the Huskita\\'s dietary needs will change from puppyhood to adulthood and will continue to change into their senior years. You should ask your veterinarian for recommendations about your Huskita\\'s diet, as there is far too much variation among individual dogs--including weight, energy, and health--to make a specific recommendation.Huskita coats are often a mix of their Akita and Siberian Husky parents\\' coats and colors. The main colors of Huskitas are white, black and cream, or tan.\\xa0They can be solid, but are often a mix of these colors.They usually have short to medium legnth coats, and they\\'re generally not recommended for people with allergies. They tend to shed quite a bit and\\xa0you may need to pick up a RoboVac.\\xa0These pups will require a few good brushes per week.\\xa0Only bathe as needed\\xa0so you don\\'t strip the coat of it\\'s natural oils. Brushing will also help to spread the oils throughout the coat.These pups are well suited for cold weather. Their Siberian Husky parentage is straight from Russia, which is about as cold as it gets.Adults should always supervise interactions between dogs and kids, and this is especially true with this mixed breed. No child could have a more loyal guardian and playmate than a Huskita, but a mistreated Huskita can become a liability and may even endanger your child\\'s life.It is imperative to teach youngsters to be respectful and kind in all their interactions with dogs. Play between dogs and kids should always be supervised, even with well-trained dogs. That said, the Huskita is suitable for families with older children.Akitas are better being the only dog in a household, while Huskies are pack animals. It\\'s the luck of the draw to find out which way your Huskita will go when it comes to other animals. Be cautious when introducing animals. You may even consider doing it through a fence or gate.Find out if this is the right dog for you by learning about their Akita and\\xa0Siberian Husky\\xa0parents.It may be hard to find a breed-specific rescue for Huskitas because they are a mixed breed. However, you may want to try Siberian Husky or Akita breed-specific rescues, as they often care for mixes, as well. Here are some rescues you can try:You can also try DogTime\\'s adoption page that lets you search for adoptable dogs by breed and zip code!'"
      ]
     },
     "execution_count": 74,
     "metadata": {},
     "output_type": "execute_result"
    }
   ],
   "source": [
    "text"
   ]
  },
  {
   "cell_type": "code",
   "execution_count": null,
   "metadata": {},
   "outputs": [],
   "source": [
    "hiohiohih"
   ]
  }
 ],
 "metadata": {
  "kernelspec": {
   "display_name": "base",
   "language": "python",
   "name": "python3"
  },
  "language_info": {
   "codemirror_mode": {
    "name": "ipython",
    "version": 3
   },
   "file_extension": ".py",
   "mimetype": "text/x-python",
   "name": "python",
   "nbconvert_exporter": "python",
   "pygments_lexer": "ipython3",
   "version": "3.10.11"
  },
  "orig_nbformat": 4
 },
 "nbformat": 4,
 "nbformat_minor": 2
}
